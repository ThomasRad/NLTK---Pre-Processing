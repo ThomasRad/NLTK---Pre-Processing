{
 "cells": [
  {
   "cell_type": "markdown",
   "metadata": {},
   "source": [
    "# Following Along YouTube Tutorial"
   ]
  },
  {
   "cell_type": "markdown",
   "metadata": {},
   "source": [
    "### Pre Process the data for NBA"
   ]
  },
  {
   "cell_type": "code",
   "execution_count": null,
   "metadata": {},
   "outputs": [],
   "source": [
    "# Import \n",
    "\n",
    "import numpy as np\n",
    "from sklearn.datasets import fetch_20newsgroups\n",
    "from nltk.tokenize import sent_tokenize, word_tokenize\n",
    "import nltk\n",
    "nltk.download('punkt')\n",
    "import re\n",
    "from nltk.corpus import stopwords\n",
    "from nltk.stem.porter import PorterStemmer"
   ]
  },
  {
   "cell_type": "code",
   "execution_count": null,
   "metadata": {},
   "outputs": [],
   "source": [
    "# set are text to variable \n",
    "\n",
    "text = fetch_20newsgroups()\n",
    "\n",
    "raw_text = text.data"
   ]
  },
  {
   "cell_type": "code",
   "execution_count": null,
   "metadata": {},
   "outputs": [],
   "source": [
    "# We want to conver the data into lowercase to make the model easier. \n",
    "\n",
    "lower_text = []\n",
    "\n",
    "# Define function to convert words into lower.\n",
    "def lower_convert(data):\n",
    "    for word in raw_text:\n",
    "        lower_text.append(str.lower(word))\n",
    "        \n",
    "lower_convert(raw_text)"
   ]
  },
  {
   "cell_type": "code",
   "execution_count": null,
   "metadata": {},
   "outputs": [],
   "source": [
    "# Print out the new lower text.\n",
    "\n",
    "lower_text"
   ]
  },
  {
   "cell_type": "code",
   "execution_count": null,
   "metadata": {},
   "outputs": [],
   "source": [
    "# Tokenize the text. \n",
    "\n",
    "token_text = []\n",
    "\n",
    "for word in lower_text:\n",
    "    word = word_tokenize(word)\n",
    "    token_text.append(word)"
   ]
  },
  {
   "cell_type": "code",
   "execution_count": null,
   "metadata": {},
   "outputs": [],
   "source": [
    "# Filter the text. Removing any special characters. \n",
    "\n",
    "filtered_text = []\n",
    "\n",
    "for words in token_text:\n",
    "    clean = []\n",
    "    for w in words:\n",
    "        res = re.sub(r'[^\\w\\s]', \"\",w)\n",
    "        if res != \"\":\n",
    "            clean.append(res)\n",
    "            \n",
    "        filtered_text.append(clean)"
   ]
  },
  {
   "cell_type": "code",
   "execution_count": null,
   "metadata": {},
   "outputs": [],
   "source": [
    "# Stop Word removal\n",
    "\n",
    "refined_list = []\n",
    "\n",
    "for words in filtered_text:\n",
    "    w = []\n",
    "    for word in words:\n",
    "        if not word in stopwords.words('english'):\n",
    "            w.append(word)\n",
    "        refined_list.append(w)\n",
    "        "
   ]
  },
  {
   "cell_type": "code",
   "execution_count": null,
   "metadata": {},
   "outputs": [],
   "source": [
    "# Stemming here. \n",
    "\n",
    "stemmer = PorterStemmer()\n",
    "\n",
    "stem_list = []\n",
    "\n",
    "for words in refined_list:\n",
    "    w = []\n",
    "    for word in words:\n",
    "        w.append(stemmer.stem(word))\n",
    "    stem_list.append(w)\n",
    "        "
   ]
  },
  {
   "cell_type": "code",
   "execution_count": null,
   "metadata": {},
   "outputs": [],
   "source": [
    "stem_list"
   ]
  },
  {
   "cell_type": "code",
   "execution_count": null,
   "metadata": {},
   "outputs": [],
   "source": []
  }
 ],
 "metadata": {
  "kernelspec": {
   "display_name": "Python 3",
   "language": "python",
   "name": "python3"
  },
  "language_info": {
   "codemirror_mode": {
    "name": "ipython",
    "version": 3
   },
   "file_extension": ".py",
   "mimetype": "text/x-python",
   "name": "python",
   "nbconvert_exporter": "python",
   "pygments_lexer": "ipython3",
   "version": "3.7.6"
  }
 },
 "nbformat": 4,
 "nbformat_minor": 4
}
